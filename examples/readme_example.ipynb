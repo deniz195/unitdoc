{
 "cells": [
  {
   "cell_type": "code",
   "execution_count": 15,
   "metadata": {},
   "outputs": [],
   "source": [
    "import attr\n",
    "from unitdoc import UnitDocRegistry"
   ]
  },
  {
   "cell_type": "markdown",
   "metadata": {},
   "source": [
    "# Unit examples"
   ]
  },
  {
   "cell_type": "code",
   "execution_count": 19,
   "metadata": {},
   "outputs": [],
   "source": [
    "udr = UnitDocRegistry()"
   ]
  },
  {
   "cell_type": "code",
   "execution_count": 20,
   "metadata": {},
   "outputs": [
    {
     "data": {
      "text/html": [
       "2 m<sup>2</sup>"
      ],
      "text/latex": [
       "$2\\ \\mathrm{m}^{2}$"
      ],
      "text/plain": [
       "2 m²"
      ]
     },
     "execution_count": 20,
     "metadata": {},
     "output_type": "execute_result"
    }
   ],
   "source": [
    "area = udr.unit('2m^2')\n",
    "area"
   ]
  },
  {
   "cell_type": "code",
   "execution_count": 21,
   "metadata": {},
   "outputs": [
    {
     "name": "stdout",
     "output_type": "stream",
     "text": [
      "!unit 2 m ** 2\n",
      "...\n",
      "\n"
     ]
    }
   ],
   "source": [
    "print(udr.yaml.dump(area))"
   ]
  },
  {
   "cell_type": "markdown",
   "metadata": {},
   "source": [
    "# Class example"
   ]
  },
  {
   "cell_type": "code",
   "execution_count": 26,
   "metadata": {},
   "outputs": [],
   "source": [
    "import attr\n",
    "from unitdoc import UnitDocRegistry\n",
    "\n",
    "udr = UnitDocRegistry()"
   ]
  },
  {
   "cell_type": "code",
   "execution_count": 27,
   "metadata": {},
   "outputs": [],
   "source": [
    "@udr.serialize()   \n",
    "@attr.s()\n",
    "class Battery(object):\n",
    "    name = attr.ib()\n",
    "\n",
    "    weight = udr.attrib(default='45g')\n",
    "    volume = udr.attrib(default='16ml', default_unit='ml')\n",
    "    capacity = udr.attrib(default='3.0Ah')\n",
    "    voltage = udr.attrib(default='3.6V', description ='Average voltage')"
   ]
  },
  {
   "cell_type": "code",
   "execution_count": 28,
   "metadata": {},
   "outputs": [
    {
     "name": "stdout",
     "output_type": "stream",
     "text": [
      "Battery(name='battery', weight=<Quantity(43, 'gram')>, volume=<Quantity(16, 'milliliter')>, capacity=<Quantity(3.0, 'Ah')>, voltage=<Quantity(3.6, 'volt')>)\n"
     ]
    }
   ],
   "source": [
    "a_battery = Battery(name = 'battery', weight='43g')\n",
    "print(a_battery)"
   ]
  },
  {
   "cell_type": "code",
   "execution_count": 29,
   "metadata": {},
   "outputs": [
    {
     "name": "stdout",
     "output_type": "stream",
     "text": [
      "10.8 Wh @  251.2 Wh / kg\n"
     ]
    }
   ],
   "source": [
    "# You can do any operation that are allowed by the pint package\n",
    "energy = (a_battery.capacity * a_battery.voltage).to('Wh')\n",
    "energy_density = (energy / a_battery.weight).to('Wh/kg')\n",
    "print(f'{energy} @  {energy_density}')"
   ]
  },
  {
   "cell_type": "code",
   "execution_count": 30,
   "metadata": {},
   "outputs": [
    {
     "name": "stdout",
     "output_type": "stream",
     "text": [
      "name: battery\n",
      "weight: !unit 43 g\n",
      "volume: !unit 16 ml\n",
      "capacity: !unit 3 Ah\n",
      "voltage: !unit 3.6 V\n",
      "\n"
     ]
    }
   ],
   "source": [
    "fn = 'a_battery.yaml'\n",
    "\n",
    "# look at serialized form\n",
    "print(a_battery.serialize())\n",
    "\n",
    "# save to yaml file\n",
    "with open(fn, 'w') as f:\n",
    "    f.write(a_battery.serialize())\n",
    "\n",
    "# load from yaml file\n",
    "with open(fn, 'r') as f:\n",
    "    a_loaded_battery = Battery.deserialize(f.read())\n"
   ]
  },
  {
   "cell_type": "code",
   "execution_count": 31,
   "metadata": {},
   "outputs": [],
   "source": [
    "assert a_battery == a_loaded_battery"
   ]
  },
  {
   "cell_type": "markdown",
   "metadata": {
    "heading_collapsed": true
   },
   "source": [
    "# Related packages"
   ]
  },
  {
   "cell_type": "code",
   "execution_count": 66,
   "metadata": {
    "hidden": true
   },
   "outputs": [
    {
     "name": "stdout",
     "output_type": "stream",
     "text": [
      "1 kg\n"
     ]
    }
   ],
   "source": [
    "q = udr.ureg('1000gram').to('kg')\n",
    "print(q)"
   ]
  },
  {
   "cell_type": "code",
   "execution_count": 71,
   "metadata": {
    "hidden": true
   },
   "outputs": [
    {
     "name": "stdout",
     "output_type": "stream",
     "text": [
      "weight: !unit 1 kg\n",
      "\n"
     ]
    }
   ],
   "source": [
    "q_yaml = udr.yaml.dump(dict(weight=q))\n",
    "print(q_yaml)"
   ]
  },
  {
   "cell_type": "code",
   "execution_count": 72,
   "metadata": {
    "hidden": true
   },
   "outputs": [
    {
     "data": {
      "text/plain": [
       "{'capacity': 3.0 Ah,\n",
       " 'name': 'battery',\n",
       " 'voltage': 3.6 V,\n",
       " 'volume': 16 ml,\n",
       " 'weight': 43 g}"
      ]
     },
     "execution_count": 72,
     "metadata": {},
     "output_type": "execute_result"
    }
   ],
   "source": [
    "udr.cattr.unstructure(a_battery)"
   ]
  },
  {
   "cell_type": "code",
   "execution_count": 78,
   "metadata": {
    "hidden": true
   },
   "outputs": [
    {
     "name": "stdout",
     "output_type": "stream",
     "text": [
      "45 g\n"
     ]
    }
   ],
   "source": [
    "@udr.serialize()   \n",
    "@attr.s()\n",
    "class Thing(object):\n",
    "    weight = udr.attrib(default='45g', description ='Total weight')\n",
    "\n",
    "a_thing = Thing()\n",
    "a_thing_dict = udr.cattr.unstructure(a_thing)\n",
    "assert type(a_thing_dict) == dict\n",
    "\n",
    "print(a_thing_dict['weight'])\n"
   ]
  },
  {
   "cell_type": "markdown",
   "metadata": {},
   "source": [
    "# Features"
   ]
  },
  {
   "cell_type": "code",
   "execution_count": 1,
   "metadata": {},
   "outputs": [],
   "source": [
    "import attr\n",
    "from unitdoc import UnitDocRegistry, DimensionalityError\n",
    "\n",
    "udr = UnitDocRegistry()"
   ]
  },
  {
   "cell_type": "code",
   "execution_count": 87,
   "metadata": {},
   "outputs": [],
   "source": [
    "@udr.serialize()   \n",
    "@attr.s()\n",
    "class Battery(object):\n",
    "    name = attr.ib()\n",
    "\n",
    "    weight = udr.attrib(default='45g')\n",
    "    volume = udr.attrib(default='16ml', default_unit='ml')\n",
    "    capacity = udr.attrib(default='3.0Ah')\n",
    "    voltage = udr.attrib(default='3.6V', description ='Average voltage')"
   ]
  },
  {
   "cell_type": "code",
   "execution_count": 88,
   "metadata": {},
   "outputs": [
    {
     "name": "stdout",
     "output_type": "stream",
     "text": [
      "15.9 ml\n"
     ]
    }
   ],
   "source": [
    "# Quantities are automatically normalized to a given default_unit:\n",
    "a_battery = Battery(name = 'battery', volume='15903 mm^3')\n",
    "print(a_battery.volume)"
   ]
  },
  {
   "cell_type": "code",
   "execution_count": 89,
   "metadata": {},
   "outputs": [
    {
     "name": "stdout",
     "output_type": "stream",
     "text": [
      "Cannot convert from 'gram' ([mass]) to 'milliliter' ([length] ** 3)\n"
     ]
    }
   ],
   "source": [
    "# Incompatible units raise DimensionalityError\n",
    "from unitdoc import DimensionalityError\n",
    "\n",
    "try:\n",
    "    a_battery = Battery(name = 'battery', volume='42 g')\n",
    "except DimensionalityError as e:\n",
    "    print(e)"
   ]
  },
  {
   "cell_type": "code",
   "execution_count": 90,
   "metadata": {},
   "outputs": [
    {
     "name": "stdout",
     "output_type": "stream",
     "text": [
      "Average voltage\n"
     ]
    }
   ],
   "source": [
    "# Retrieve description of parameters\n",
    "from unitdoc import get_attr_description\n",
    "print(get_attr_description(a_battery.__class__, 'voltage'))"
   ]
  },
  {
   "cell_type": "code",
   "execution_count": 91,
   "metadata": {},
   "outputs": [
    {
     "name": "stdout",
     "output_type": "stream",
     "text": [
      "None\n"
     ]
    }
   ],
   "source": [
    "# Quantities are automatically normalized to a given default_unit:\n",
    "a_battery = Battery(name = 'battery', volume=None)\n",
    "print(a_battery.volume)"
   ]
  },
  {
   "cell_type": "code",
   "execution_count": 92,
   "metadata": {},
   "outputs": [
    {
     "name": "stdout",
     "output_type": "stream",
     "text": [
      "name: battery\n",
      "weight: !unit 45 g\n",
      "volume:\n",
      "capacity: !unit 3 Ah\n",
      "voltage: !unit 3.6 V\n",
      "\n"
     ]
    }
   ],
   "source": [
    "print(a_battery.serialize())"
   ]
  },
  {
   "cell_type": "code",
   "execution_count": 97,
   "metadata": {},
   "outputs": [
    {
     "data": {
      "text/plain": [
       "int"
      ]
     },
     "execution_count": 97,
     "metadata": {},
     "output_type": "execute_result"
    }
   ],
   "source": [
    "a_battery = Battery(name = 'battery')\n",
    "a_battery.volume = 99\n",
    "type(a_battery.volume)"
   ]
  },
  {
   "cell_type": "code",
   "execution_count": null,
   "metadata": {},
   "outputs": [],
   "source": []
  },
  {
   "cell_type": "code",
   "execution_count": null,
   "metadata": {},
   "outputs": [],
   "source": []
  },
  {
   "cell_type": "code",
   "execution_count": 99,
   "metadata": {},
   "outputs": [],
   "source": [
    "@udr.serialize()   \n",
    "@attr.s(kw_only=True, frozen=True)\n",
    "class BetterBattery(object):\n",
    "    name = attr.ib()\n",
    "\n",
    "    weight = udr.attrib(default='45g')\n",
    "    volume = udr.attrib(default='16ml', default_unit='ml')\n",
    "    capacity = udr.attrib(default='3.0Ah')\n",
    "    voltage = udr.attrib(default='3.6V', description ='Average voltage')"
   ]
  },
  {
   "cell_type": "code",
   "execution_count": 100,
   "metadata": {},
   "outputs": [
    {
     "ename": "TypeError",
     "evalue": "__init__() takes 1 positional argument but 4 were given",
     "output_type": "error",
     "traceback": [
      "\u001b[1;31m---------------------------------------------------------------------------\u001b[0m",
      "\u001b[1;31mTypeError\u001b[0m                                 Traceback (most recent call last)",
      "\u001b[1;32m<ipython-input-100-dc1099c88eec>\u001b[0m in \u001b[0;36m<module>\u001b[1;34m()\u001b[0m\n\u001b[0;32m      1\u001b[0m \u001b[1;31m# The following line fails with a TypeError\u001b[0m\u001b[1;33m\u001b[0m\u001b[1;33m\u001b[0m\u001b[0m\n\u001b[0;32m      2\u001b[0m \u001b[1;31m# This is good, because positional arguments can be dangerous when data model changes over time.\u001b[0m\u001b[1;33m\u001b[0m\u001b[1;33m\u001b[0m\u001b[0m\n\u001b[1;32m----> 3\u001b[1;33m \u001b[0ma_battery\u001b[0m \u001b[1;33m=\u001b[0m \u001b[0mBetterBattery\u001b[0m\u001b[1;33m(\u001b[0m\u001b[1;34m'battery'\u001b[0m\u001b[1;33m,\u001b[0m \u001b[1;34m'42g'\u001b[0m\u001b[1;33m,\u001b[0m \u001b[1;34m'16ml'\u001b[0m\u001b[1;33m)\u001b[0m\u001b[1;33m\u001b[0m\u001b[0m\n\u001b[0m",
      "\u001b[1;31mTypeError\u001b[0m: __init__() takes 1 positional argument but 4 were given"
     ]
    }
   ],
   "source": [
    "# The following line fails with a TypeError\n",
    "# This is good, because positional arguments can be dangerous when data model changes over time.\n",
    "a_battery = BetterBattery('battery', '42g', '16ml') "
   ]
  },
  {
   "cell_type": "code",
   "execution_count": 102,
   "metadata": {},
   "outputs": [],
   "source": [
    "# The kw_only flag enforces to use keywords in the constructor\n",
    "# This makes the code more save and understandable\n",
    "a_battery = BetterBattery(name='battery', weight='42g', volume='16ml') "
   ]
  },
  {
   "cell_type": "code",
   "execution_count": 103,
   "metadata": {},
   "outputs": [
    {
     "ename": "FrozenInstanceError",
     "evalue": "",
     "output_type": "error",
     "traceback": [
      "\u001b[1;31m---------------------------------------------------------------------------\u001b[0m",
      "\u001b[1;31mFrozenInstanceError\u001b[0m                       Traceback (most recent call last)",
      "\u001b[1;32m<ipython-input-103-4f8fd35ee3c4>\u001b[0m in \u001b[0;36m<module>\u001b[1;34m()\u001b[0m\n\u001b[0;32m      1\u001b[0m \u001b[1;31m# Fails with Frozen InstanceError, which avoids unchecked override of attributes\u001b[0m\u001b[1;33m\u001b[0m\u001b[1;33m\u001b[0m\u001b[0m\n\u001b[1;32m----> 2\u001b[1;33m \u001b[0ma_battery\u001b[0m\u001b[1;33m.\u001b[0m\u001b[0mvolume\u001b[0m \u001b[1;33m=\u001b[0m \u001b[1;36m99\u001b[0m\u001b[1;33m\u001b[0m\u001b[0m\n\u001b[0m",
      "\u001b[1;32mC:\\Program Files (x86)\\Microsoft Visual Studio\\Shared\\Anaconda3_64\\lib\\site-packages\\attr\\_make.py\u001b[0m in \u001b[0;36m_frozen_setattrs\u001b[1;34m(self, name, value)\u001b[0m\n\u001b[0;32m    427\u001b[0m     \u001b[0mAttached\u001b[0m \u001b[0mto\u001b[0m \u001b[0mfrozen\u001b[0m \u001b[0mclasses\u001b[0m \u001b[1;32mas\u001b[0m \u001b[0m__setattr__\u001b[0m\u001b[1;33m.\u001b[0m\u001b[1;33m\u001b[0m\u001b[0m\n\u001b[0;32m    428\u001b[0m     \"\"\"\n\u001b[1;32m--> 429\u001b[1;33m     \u001b[1;32mraise\u001b[0m \u001b[0mFrozenInstanceError\u001b[0m\u001b[1;33m(\u001b[0m\u001b[1;33m)\u001b[0m\u001b[1;33m\u001b[0m\u001b[0m\n\u001b[0m\u001b[0;32m    430\u001b[0m \u001b[1;33m\u001b[0m\u001b[0m\n\u001b[0;32m    431\u001b[0m \u001b[1;33m\u001b[0m\u001b[0m\n",
      "\u001b[1;31mFrozenInstanceError\u001b[0m: "
     ]
    }
   ],
   "source": [
    "# Fails with Frozen InstanceError, which avoids unchecked override of attributes\n",
    "a_battery.volume = 99 "
   ]
  },
  {
   "cell_type": "code",
   "execution_count": 104,
   "metadata": {},
   "outputs": [
    {
     "name": "stdout",
     "output_type": "stream",
     "text": [
      "12 ml\n"
     ]
    }
   ],
   "source": [
    "# Update values correctly, including unit conversion and checks\n",
    "a_battery = attr.evolve(a_battery, volume='12cm^3')\n",
    "print(a_battery.volume)"
   ]
  },
  {
   "cell_type": "code",
   "execution_count": null,
   "metadata": {},
   "outputs": [],
   "source": []
  }
 ],
 "metadata": {
  "kernelspec": {
   "display_name": "Python 3",
   "language": "python",
   "name": "python3"
  },
  "language_info": {
   "codemirror_mode": {
    "name": "ipython",
    "version": 3
   },
   "file_extension": ".py",
   "mimetype": "text/x-python",
   "name": "python",
   "nbconvert_exporter": "python",
   "pygments_lexer": "ipython3",
   "version": "3.6.2"
  },
  "toc": {
   "colors": {
    "hover_highlight": "#DAA520",
    "navigate_num": "#000000",
    "navigate_text": "#333333",
    "running_highlight": "#FF0000",
    "selected_highlight": "#FFD700",
    "sidebar_border": "#EEEEEE",
    "wrapper_background": "#FFFFFF"
   },
   "moveMenuLeft": true,
   "nav_menu": {
    "height": "83.1111px",
    "width": "252px"
   },
   "navigate_menu": true,
   "number_sections": true,
   "sideBar": false,
   "threshold": 4,
   "toc_cell": false,
   "toc_position": {
    "height": "712.181px",
    "left": "1426px",
    "right": "20px",
    "top": "63.7778px",
    "width": "184.083px"
   },
   "toc_section_display": "none",
   "toc_window_display": true,
   "widenNotebook": false
  }
 },
 "nbformat": 4,
 "nbformat_minor": 2
}
